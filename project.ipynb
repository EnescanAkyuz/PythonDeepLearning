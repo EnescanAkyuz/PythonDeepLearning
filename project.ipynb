{
 "cells": [
  {
   "cell_type": "code",
   "execution_count": 5,
   "metadata": {},
   "outputs": [],
   "source": [
    "import os\n",
    "import random\n",
    "import pickle\n",
    "\n",
    "\n",
    "import numpy as np\n",
    "import matplotlib.pyplot as plt\n",
    "\n",
    "import cv2 as cv"
   ]
  },
  {
   "cell_type": "code",
   "execution_count": 15,
   "metadata": {},
   "outputs": [
    {
     "name": "stdout",
     "output_type": "stream",
     "text": [
      "Processed: 8732 | Erros: 0"
     ]
    }
   ],
   "source": [
    "images = []\n",
    "number_of_errors = 0\n",
    "number_of_processed = 0\n",
    "\n",
    "for classid in os.listdir(\"spectrograms\"):\n",
    "    path_to_class = f\"spectrograms/{classid}\"\n",
    "    for image in os.listdir(path_to_class):\n",
    "        try:\n",
    "            path_to_image = f\"{path_to_class}/{image}\"\n",
    "            img = cv.imread(path_to_image, 0)\n",
    "            \n",
    "            # cv.imshow(\"frame\",img)\n",
    "            # cv.waitKey(0)\n",
    "            # cv.destroyAllWindows()\n",
    "            img = cv.resize(img, (128,128))\n",
    "            \n",
    "            img = img/255\n",
    "            \n",
    "            images.append([img, int(classid)])\n",
    "            number_of_processed += 1\n",
    "\n",
    "        except:\n",
    "            number_of_errors += 1\n",
    "        \n",
    "        print(f\"\\rProcessed: {number_of_processed} | Erros: {number_of_errors}\", end=\"\")\n"
   ]
  },
  {
   "cell_type": "code",
   "execution_count": 4,
   "metadata": {},
   "outputs": [],
   "source": [
    "for _ in range(10):\n",
    "    random.shuffle(images)"
   ]
  },
  {
   "cell_type": "code",
   "execution_count": 21,
   "metadata": {},
   "outputs": [
    {
     "data": {
      "text/plain": [
       "4"
      ]
     },
     "execution_count": 21,
     "metadata": {},
     "output_type": "execute_result"
    }
   ],
   "source": [
    "images[1][1]"
   ]
  },
  {
   "cell_type": "code",
   "execution_count": 5,
   "metadata": {},
   "outputs": [],
   "source": [
    "X = []\n",
    "y = []\n",
    "\n",
    "for image, idx in images:\n",
    "    X.append(image)\n",
    "    y.append(idx)"
   ]
  },
  {
   "cell_type": "code",
   "execution_count": 6,
   "metadata": {},
   "outputs": [],
   "source": [
    "X_train = []\n",
    "y_train = []\n",
    "\n",
    "X_val = []\n",
    "y_val = []\n",
    "\n",
    "X_test = []\n",
    "y_test = []"
   ]
  },
  {
   "cell_type": "code",
   "execution_count": 24,
   "metadata": {},
   "outputs": [
    {
     "data": {
      "text/plain": [
       "numpy.ndarray"
      ]
     },
     "execution_count": 24,
     "metadata": {},
     "output_type": "execute_result"
    }
   ],
   "source": [
    "type(X_test)"
   ]
  },
  {
   "cell_type": "code",
   "execution_count": 9,
   "metadata": {},
   "outputs": [],
   "source": [
    "X_train = X[:6984]\n",
    "y_train = y[:6984]\n",
    "\n",
    "X_val = X[6984:7858]\n",
    "y_val = y[6984:7858]\n",
    "\n",
    "X_test = X[7858:]\n",
    "y_test = y[7858:]"
   ]
  },
  {
   "cell_type": "code",
   "execution_count": 23,
   "metadata": {},
   "outputs": [
    {
     "data": {
      "text/plain": [
       "numpy.ndarray"
      ]
     },
     "execution_count": 23,
     "metadata": {},
     "output_type": "execute_result"
    }
   ],
   "source": [
    "type(X_test)"
   ]
  },
  {
   "cell_type": "code",
   "execution_count": 10,
   "metadata": {},
   "outputs": [
    {
     "name": "stdout",
     "output_type": "stream",
     "text": [
      "6984\n",
      "6984\n",
      "874\n",
      "874\n",
      "874\n",
      "874\n"
     ]
    }
   ],
   "source": [
    "print(len(X_train))\n",
    "print(len(y_train))\n",
    "print(len(X_val))\n",
    "print(len(y_val))\n",
    "print(len(X_test))\n",
    "print(len(y_test))"
   ]
  },
  {
   "cell_type": "code",
   "execution_count": 11,
   "metadata": {},
   "outputs": [],
   "source": [
    "X_train = np.array(X_train)\n",
    "y_train = np.array(y_train)\n",
    "\n",
    "X_val = np.array(X_val)\n",
    "y_val = np.array(y_val)\n",
    "\n",
    "X_test = np.array(X_test)\n",
    "y_test = np.array(y_test)"
   ]
  },
  {
   "cell_type": "code",
   "execution_count": null,
   "metadata": {},
   "outputs": [],
   "source": [
    "X_train = X_train.reshape(-1, 128, 128, 1) \n",
    "X_val = X_val.reshape(-1, 128, 128, 1) \n",
    "X_test = X_test.reshape(-1, 128, 128, 1) "
   ]
  },
  {
   "cell_type": "code",
   "execution_count": 16,
   "metadata": {},
   "outputs": [
    {
     "data": {
      "text/plain": [
       "(6984, 128, 128, 1)"
      ]
     },
     "execution_count": 16,
     "metadata": {},
     "output_type": "execute_result"
    }
   ],
   "source": [
    "X_train.shape"
   ]
  },
  {
   "cell_type": "code",
   "execution_count": 15,
   "metadata": {},
   "outputs": [],
   "source": [
    "if \"pickles\" not in os.listdir():\n",
    "    os.mkdir(\"pickles\")\n",
    "\n",
    "with open(\"pickles/X_train.pickle\", \"wb\") as f:\n",
    "  pickle.dump(X_train, f)  \n",
    "with open(\"pickles/y_train.pickle\", \"wb\") as f:\n",
    "  pickle.dump(y_train, f)\n",
    "\n",
    "with open(\"pickles/X_val.pickle\", \"wb\") as f:\n",
    "  pickle.dump(X_val, f)  \n",
    "with open(\"pickles/y_val.pickle\", \"wb\") as f:\n",
    "  pickle.dump(y_val, f)\n",
    "\n",
    "with open(\"pickles/X_test.pickle\", \"wb\") as f:\n",
    "  pickle.dump(X_test, f)  \n",
    "with open(\"pickles/y_test.pickle\", \"wb\") as f:\n",
    "  pickle.dump(y_test, f)"
   ]
  },
  {
   "cell_type": "code",
   "execution_count": null,
   "metadata": {},
   "outputs": [],
   "source": []
  }
 ],
 "metadata": {
  "kernelspec": {
   "display_name": "Python 3.10.0 64-bit",
   "language": "python",
   "name": "python3"
  },
  "language_info": {
   "codemirror_mode": {
    "name": "ipython",
    "version": 3
   },
   "file_extension": ".py",
   "mimetype": "text/x-python",
   "name": "python",
   "nbconvert_exporter": "python",
   "pygments_lexer": "ipython3",
   "version": "3.10.0"
  },
  "orig_nbformat": 4,
  "vscode": {
   "interpreter": {
    "hash": "85235c1561781b2eaa8407aa189323b2186b12e100c03a773142be53ead17792"
   }
  }
 },
 "nbformat": 4,
 "nbformat_minor": 2
}
