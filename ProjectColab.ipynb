{
  "nbformat": 4,
  "nbformat_minor": 0,
  "metadata": {
    "colab": {
      "provenance": [],
      "collapsed_sections": []
    },
    "kernelspec": {
      "name": "python3",
      "display_name": "Python 3"
    },
    "language_info": {
      "name": "python"
    },
    "accelerator": "GPU"
  },
  "cells": [
    {
      "cell_type": "code",
      "execution_count": 3,
      "metadata": {
        "id": "07lQPittiBtW"
      },
      "outputs": [],
      "source": [
        "import tensorflow as tf\n",
        "import pandas as pd\n",
        "import pickle"
      ]
    },
    {
      "cell_type": "code",
      "source": [
        "X_train = pickle.load(open(\"/content/drive/MyDrive/pickles/X_train.pickle\",\"rb\"))\n",
        "y_train = pickle.load(open(\"/content/drive/MyDrive/pickles/y_train.pickle\",\"rb\"))\n",
        "\n",
        "X_val = pickle.load(open(\"/content/drive/MyDrive/pickles/X_val.pickle\",\"rb\"))\n",
        "y_val = pickle.load(open(\"/content/drive/MyDrive/pickles/y_val.pickle\",\"rb\"))\n",
        "\n",
        "X_test = pickle.load(open(\"/content/drive/MyDrive/pickles/X_test.pickle\",\"rb\"))\n",
        "y_test = pickle.load(open(\"/content/drive/MyDrive/pickles/y_test.pickle\",\"rb\"))\n"
      ],
      "metadata": {
        "id": "Udc-1fXniMIQ"
      },
      "execution_count": 6,
      "outputs": []
    },
    {
      "cell_type": "code",
      "source": [
        "# Model\n",
        "model = tf.keras.Sequential()\n",
        "\n",
        "# Feature Extraction\n",
        "model.add(tf.keras.layers.Conv2D(64, kernel_size=(3,3), strides=(2,2), padding=\"same\", input_shape=(128, 128, 1), activation=\"relu\"))\n",
        "model.add(tf.keras.layers.MaxPool2D(pool_size=(2,2), strides=(2,2)))\n",
        "\n",
        "model.add(tf.keras.layers.Conv2D(64, kernel_size=(3,3), strides=(2,2), padding=\"same\", activation=\"relu\"))\n",
        "model.add(tf.keras.layers.MaxPool2D(pool_size=(2,2), strides=(2,2)))\n",
        "\n",
        "model.add(tf.keras.layers.Conv2D(64, kernel_size=(3,3), strides=(2,2), padding=\"same\", activation=\"relu\"))\n",
        "model.add(tf.keras.layers.MaxPool2D(pool_size=(2,2), strides=(2,2)))\n",
        "\n",
        "# Flatten\n",
        "model.add(tf.keras.layers.Flatten())\n",
        "# Classification\n",
        "model.add(tf.keras.layers.Dense(128, activation=\"relu\"))\n",
        "model.add(tf.keras.layers.Dropout(0.5))\n",
        "model.add(tf.keras.layers.Dense(128, activation=\"relu\"))\n",
        "model.add(tf.keras.layers.Dropout(0.5))\n",
        "model.add(tf.keras.layers.Dense(128, activation=\"relu\"))\n",
        "model.add(tf.keras.layers.Dropout(0.5))\n",
        "# model.add(tf.keras.layers.Dense(128, activation=\"relu\"))\n",
        "# model.add(tf.keras.layers.Dropout(0.5))\n",
        "\n",
        "# Output Layer\n",
        "model.add(tf.keras.layers.Dense(10, activation=\"softmax\"))"
      ],
      "metadata": {
        "id": "o_pGdelHoSEl"
      },
      "execution_count": 26,
      "outputs": []
    },
    {
      "cell_type": "code",
      "source": [
        "model.summary()"
      ],
      "metadata": {
        "colab": {
          "base_uri": "https://localhost:8080/"
        },
        "id": "ZCXiLPPHtOdN",
        "outputId": "4450e735-8830-481f-a1b2-4eee73659b29"
      },
      "execution_count": 32,
      "outputs": [
        {
          "output_type": "stream",
          "name": "stdout",
          "text": [
            "Model: \"sequential_5\"\n",
            "_________________________________________________________________\n",
            " Layer (type)                Output Shape              Param #   \n",
            "=================================================================\n",
            " conv2d_6 (Conv2D)           (None, 64, 64, 64)        640       \n",
            "                                                                 \n",
            " max_pooling2d_6 (MaxPooling  (None, 32, 32, 64)       0         \n",
            " 2D)                                                             \n",
            "                                                                 \n",
            " conv2d_7 (Conv2D)           (None, 16, 16, 64)        36928     \n",
            "                                                                 \n",
            " max_pooling2d_7 (MaxPooling  (None, 8, 8, 64)         0         \n",
            " 2D)                                                             \n",
            "                                                                 \n",
            " conv2d_8 (Conv2D)           (None, 4, 4, 64)          36928     \n",
            "                                                                 \n",
            " max_pooling2d_8 (MaxPooling  (None, 2, 2, 64)         0         \n",
            " 2D)                                                             \n",
            "                                                                 \n",
            " flatten_4 (Flatten)         (None, 256)               0         \n",
            "                                                                 \n",
            " dense_25 (Dense)            (None, 128)               32896     \n",
            "                                                                 \n",
            " dropout_20 (Dropout)        (None, 128)               0         \n",
            "                                                                 \n",
            " dense_26 (Dense)            (None, 128)               16512     \n",
            "                                                                 \n",
            " dropout_21 (Dropout)        (None, 128)               0         \n",
            "                                                                 \n",
            " dense_27 (Dense)            (None, 128)               16512     \n",
            "                                                                 \n",
            " dropout_22 (Dropout)        (None, 128)               0         \n",
            "                                                                 \n",
            " dense_28 (Dense)            (None, 10)                1290      \n",
            "                                                                 \n",
            "=================================================================\n",
            "Total params: 141,706\n",
            "Trainable params: 141,706\n",
            "Non-trainable params: 0\n",
            "_________________________________________________________________\n"
          ]
        }
      ]
    },
    {
      "cell_type": "code",
      "source": [
        "model.compile(optimizer='adam', loss=\"sparse_categorical_crossentropy\", metrics=['accuracy'])"
      ],
      "metadata": {
        "id": "a6IIFKVco5id"
      },
      "execution_count": 27,
      "outputs": []
    },
    {
      "cell_type": "code",
      "source": [
        "history = model.fit(X_train, y_train, epochs=50, validation_data=(X_val, y_val))"
      ],
      "metadata": {
        "colab": {
          "base_uri": "https://localhost:8080/"
        },
        "id": "MndDTymXo9PX",
        "outputId": "0ff2dee8-c4fd-4e36-f0e9-7bf9825e7793"
      },
      "execution_count": 28,
      "outputs": [
        {
          "output_type": "stream",
          "name": "stdout",
          "text": [
            "Epoch 1/50\n",
            "219/219 [==============================] - 3s 9ms/step - loss: 2.1000 - accuracy: 0.2027 - val_loss: 1.7475 - val_accuracy: 0.3009\n",
            "Epoch 2/50\n",
            "219/219 [==============================] - 2s 8ms/step - loss: 1.7414 - accuracy: 0.3444 - val_loss: 1.4067 - val_accuracy: 0.4737\n",
            "Epoch 3/50\n",
            "219/219 [==============================] - 2s 8ms/step - loss: 1.4765 - accuracy: 0.4638 - val_loss: 1.1229 - val_accuracy: 0.5789\n",
            "Epoch 4/50\n",
            "219/219 [==============================] - 2s 8ms/step - loss: 1.2727 - accuracy: 0.5309 - val_loss: 0.9792 - val_accuracy: 0.6693\n",
            "Epoch 5/50\n",
            "219/219 [==============================] - 2s 8ms/step - loss: 1.1053 - accuracy: 0.6107 - val_loss: 0.8531 - val_accuracy: 0.7071\n",
            "Epoch 6/50\n",
            "219/219 [==============================] - 2s 8ms/step - loss: 0.9778 - accuracy: 0.6651 - val_loss: 0.8375 - val_accuracy: 0.6957\n",
            "Epoch 7/50\n",
            "219/219 [==============================] - 2s 8ms/step - loss: 0.8970 - accuracy: 0.7045 - val_loss: 0.6901 - val_accuracy: 0.7620\n",
            "Epoch 8/50\n",
            "219/219 [==============================] - 2s 8ms/step - loss: 0.7833 - accuracy: 0.7393 - val_loss: 0.6477 - val_accuracy: 0.7975\n",
            "Epoch 9/50\n",
            "219/219 [==============================] - 2s 8ms/step - loss: 0.7065 - accuracy: 0.7733 - val_loss: 0.6053 - val_accuracy: 0.8089\n",
            "Epoch 10/50\n",
            "219/219 [==============================] - 2s 8ms/step - loss: 0.6571 - accuracy: 0.7935 - val_loss: 0.5954 - val_accuracy: 0.8227\n",
            "Epoch 11/50\n",
            "219/219 [==============================] - 2s 8ms/step - loss: 0.5846 - accuracy: 0.8166 - val_loss: 0.5475 - val_accuracy: 0.8432\n",
            "Epoch 12/50\n",
            "219/219 [==============================] - 2s 8ms/step - loss: 0.5458 - accuracy: 0.8252 - val_loss: 0.5997 - val_accuracy: 0.8204\n",
            "Epoch 13/50\n",
            "219/219 [==============================] - 2s 8ms/step - loss: 0.4996 - accuracy: 0.8442 - val_loss: 0.5917 - val_accuracy: 0.8444\n",
            "Epoch 14/50\n",
            "219/219 [==============================] - 2s 8ms/step - loss: 0.4482 - accuracy: 0.8597 - val_loss: 0.5651 - val_accuracy: 0.8421\n",
            "Epoch 15/50\n",
            "219/219 [==============================] - 2s 8ms/step - loss: 0.4333 - accuracy: 0.8651 - val_loss: 0.5304 - val_accuracy: 0.8558\n",
            "Epoch 16/50\n",
            "219/219 [==============================] - 2s 8ms/step - loss: 0.3737 - accuracy: 0.8857 - val_loss: 0.4835 - val_accuracy: 0.8604\n",
            "Epoch 17/50\n",
            "219/219 [==============================] - 2s 8ms/step - loss: 0.3828 - accuracy: 0.8812 - val_loss: 0.5713 - val_accuracy: 0.8501\n",
            "Epoch 18/50\n",
            "219/219 [==============================] - 2s 8ms/step - loss: 0.3525 - accuracy: 0.8915 - val_loss: 0.4986 - val_accuracy: 0.8753\n",
            "Epoch 19/50\n",
            "219/219 [==============================] - 2s 8ms/step - loss: 0.3160 - accuracy: 0.9008 - val_loss: 0.4737 - val_accuracy: 0.8810\n",
            "Epoch 20/50\n",
            "219/219 [==============================] - 2s 8ms/step - loss: 0.3016 - accuracy: 0.9099 - val_loss: 0.5319 - val_accuracy: 0.8661\n",
            "Epoch 21/50\n",
            "219/219 [==============================] - 2s 8ms/step - loss: 0.2746 - accuracy: 0.9164 - val_loss: 0.5090 - val_accuracy: 0.8776\n",
            "Epoch 22/50\n",
            "219/219 [==============================] - 2s 8ms/step - loss: 0.2644 - accuracy: 0.9195 - val_loss: 0.5371 - val_accuracy: 0.8753\n",
            "Epoch 23/50\n",
            "219/219 [==============================] - 2s 8ms/step - loss: 0.2708 - accuracy: 0.9185 - val_loss: 0.5128 - val_accuracy: 0.8833\n",
            "Epoch 24/50\n",
            "219/219 [==============================] - 2s 8ms/step - loss: 0.2363 - accuracy: 0.9278 - val_loss: 0.5447 - val_accuracy: 0.8822\n",
            "Epoch 25/50\n",
            "219/219 [==============================] - 2s 8ms/step - loss: 0.2295 - accuracy: 0.9324 - val_loss: 0.5762 - val_accuracy: 0.8719\n",
            "Epoch 26/50\n",
            "219/219 [==============================] - 2s 8ms/step - loss: 0.2323 - accuracy: 0.9286 - val_loss: 0.5850 - val_accuracy: 0.8696\n",
            "Epoch 27/50\n",
            "219/219 [==============================] - 2s 8ms/step - loss: 0.2172 - accuracy: 0.9338 - val_loss: 0.5370 - val_accuracy: 0.8844\n",
            "Epoch 28/50\n",
            "219/219 [==============================] - 2s 8ms/step - loss: 0.1884 - accuracy: 0.9426 - val_loss: 0.5776 - val_accuracy: 0.8856\n",
            "Epoch 29/50\n",
            "219/219 [==============================] - 2s 8ms/step - loss: 0.2181 - accuracy: 0.9363 - val_loss: 0.6139 - val_accuracy: 0.8570\n",
            "Epoch 30/50\n",
            "219/219 [==============================] - 2s 8ms/step - loss: 0.1829 - accuracy: 0.9447 - val_loss: 0.5327 - val_accuracy: 0.8867\n",
            "Epoch 31/50\n",
            "219/219 [==============================] - 2s 9ms/step - loss: 0.1590 - accuracy: 0.9513 - val_loss: 0.6662 - val_accuracy: 0.8627\n",
            "Epoch 32/50\n",
            "219/219 [==============================] - 2s 9ms/step - loss: 0.1919 - accuracy: 0.9426 - val_loss: 0.6259 - val_accuracy: 0.8810\n",
            "Epoch 33/50\n",
            "219/219 [==============================] - 2s 8ms/step - loss: 0.1472 - accuracy: 0.9549 - val_loss: 0.6051 - val_accuracy: 0.8822\n",
            "Epoch 34/50\n",
            "219/219 [==============================] - 2s 8ms/step - loss: 0.1691 - accuracy: 0.9512 - val_loss: 0.6593 - val_accuracy: 0.8547\n",
            "Epoch 35/50\n",
            "219/219 [==============================] - 2s 8ms/step - loss: 0.1552 - accuracy: 0.9538 - val_loss: 0.7224 - val_accuracy: 0.8638\n",
            "Epoch 36/50\n",
            "219/219 [==============================] - 2s 8ms/step - loss: 0.1446 - accuracy: 0.9563 - val_loss: 0.5465 - val_accuracy: 0.8902\n",
            "Epoch 37/50\n",
            "219/219 [==============================] - 2s 8ms/step - loss: 0.1916 - accuracy: 0.9470 - val_loss: 0.4715 - val_accuracy: 0.8822\n",
            "Epoch 38/50\n",
            "219/219 [==============================] - 2s 8ms/step - loss: 0.1505 - accuracy: 0.9550 - val_loss: 0.6302 - val_accuracy: 0.8638\n",
            "Epoch 39/50\n",
            "219/219 [==============================] - 2s 8ms/step - loss: 0.1575 - accuracy: 0.9520 - val_loss: 0.6069 - val_accuracy: 0.8799\n",
            "Epoch 40/50\n",
            "219/219 [==============================] - 2s 8ms/step - loss: 0.1139 - accuracy: 0.9653 - val_loss: 0.5973 - val_accuracy: 0.8799\n",
            "Epoch 41/50\n",
            "219/219 [==============================] - 2s 8ms/step - loss: 0.1062 - accuracy: 0.9655 - val_loss: 0.6595 - val_accuracy: 0.8890\n",
            "Epoch 42/50\n",
            "219/219 [==============================] - 2s 9ms/step - loss: 0.1412 - accuracy: 0.9602 - val_loss: 0.9570 - val_accuracy: 0.8398\n",
            "Epoch 43/50\n",
            "219/219 [==============================] - 2s 8ms/step - loss: 0.1493 - accuracy: 0.9583 - val_loss: 0.6184 - val_accuracy: 0.8844\n",
            "Epoch 44/50\n",
            "219/219 [==============================] - 2s 8ms/step - loss: 0.0974 - accuracy: 0.9731 - val_loss: 0.6914 - val_accuracy: 0.8879\n",
            "Epoch 45/50\n",
            "219/219 [==============================] - 2s 8ms/step - loss: 0.1177 - accuracy: 0.9675 - val_loss: 0.6184 - val_accuracy: 0.8913\n",
            "Epoch 46/50\n",
            "219/219 [==============================] - 2s 8ms/step - loss: 0.1205 - accuracy: 0.9671 - val_loss: 0.5429 - val_accuracy: 0.8844\n",
            "Epoch 47/50\n",
            "219/219 [==============================] - 2s 8ms/step - loss: 0.1092 - accuracy: 0.9672 - val_loss: 0.6842 - val_accuracy: 0.8844\n",
            "Epoch 48/50\n",
            "219/219 [==============================] - 2s 8ms/step - loss: 0.1175 - accuracy: 0.9661 - val_loss: 0.7396 - val_accuracy: 0.8730\n",
            "Epoch 49/50\n",
            "219/219 [==============================] - 2s 8ms/step - loss: 0.1005 - accuracy: 0.9696 - val_loss: 0.6916 - val_accuracy: 0.8879\n",
            "Epoch 50/50\n",
            "219/219 [==============================] - 2s 8ms/step - loss: 0.1117 - accuracy: 0.9685 - val_loss: 0.8352 - val_accuracy: 0.8696\n"
          ]
        }
      ]
    },
    {
      "cell_type": "code",
      "source": [
        "result = model.evaluate(X_test, y_test)\n",
        "print(f\"Loss: {result[0]} - Accuracy: {result[1]}\")"
      ],
      "metadata": {
        "colab": {
          "base_uri": "https://localhost:8080/"
        },
        "id": "_FOrcUNYpAV3",
        "outputId": "134c9614-ee5d-40f4-9035-e9a533d3791d"
      },
      "execution_count": 29,
      "outputs": [
        {
          "output_type": "stream",
          "name": "stdout",
          "text": [
            "28/28 [==============================] - 0s 6ms/step - loss: 0.6922 - accuracy: 0.8890\n",
            "Loss: 0.6922268271446228 - Accuracy: 0.8890160322189331\n"
          ]
        }
      ]
    },
    {
      "cell_type": "code",
      "source": [
        "import matplotlib.pyplot as plt\n",
        "\n",
        "plt.plot(history.history[\"loss\"], label=\"Train\")\n",
        "plt.plot(history.history[\"val_loss\"], label=\"Validation\")\n",
        "\n",
        "plt.xlabel(\"Epoch\")\n",
        "plt.ylabel(\"Loss\")\n",
        "\n",
        "plt.legend()\n",
        "plt.show()"
      ],
      "metadata": {
        "colab": {
          "base_uri": "https://localhost:8080/",
          "height": 279
        },
        "id": "IXMGa1yJpM9x",
        "outputId": "f38ec672-2e3b-446a-c707-b37cf2954d47"
      },
      "execution_count": 30,
      "outputs": [
        {
          "output_type": "display_data",
          "data": {
            "text/plain": [
              "<Figure size 432x288 with 1 Axes>"
            ],
            "image/png": "[encoded data removed]"
          },
          "metadata": {
            "needs_background": "light"
          }
        }
      ]
    },
    {
      "cell_type": "code",
      "source": [
        "plt.plot(history.history[\"accuracy\"], label=\"Train\")\n",
        "plt.plot(history.history[\"val_accuracy\"], label=\"Validation\")\n",
        "\n",
        "plt.xlabel(\"Epoch\")\n",
        "plt.ylabel(\"Accuracy\")\n",
        "\n",
        "plt.legend()\n",
        "plt.show()"
      ],
      "metadata": {
        "colab": {
          "base_uri": "https://localhost:8080/",
          "height": 280
        },
        "id": "KT33-weopaEH",
        "outputId": "a8964961-c393-40b5-fd49-40ac2bb932e0"
      },
      "execution_count": 31,
      "outputs": [
        {
          "output_type": "display_data",
          "data": {
            "text/plain": [
              "<Figure size 432x288 with 1 Axes>"
            ],
            "image/png": "[encoded data removed]"
          },
          "metadata": {
            "needs_background": "light"
          }
        }
      ]
    },
    {
      "cell_type": "code",
      "source": [
        "result_classes = [\"air_conditioner\",\"car_horn\",\"children_playing\",\"dog_bark\",\"drilling\", \"engine_idling\", \"gun_shot\", \"jackhammer\", \"siren\", \"street_music\"]"
      ],
      "metadata": {
        "id": "9QNQLllb34GM"
      },
      "execution_count": 33,
      "outputs": []
    },
    {
      "cell_type": "code",
      "source": [
        "import numpy as np"
      ],
      "metadata": {
        "id": "Stp7ySeL37Cz"
      },
      "execution_count": 34,
      "outputs": []
    },
    {
      "cell_type": "code",
      "source": [
        "result_array = model.predict(X_test[12].reshape(1,128,128,1))\n",
        "result = np.argmax(result_array[0])\n",
        "print(result_classes[result]) "
      ],
      "metadata": {
        "id": "_Cab6MGSpnQx"
      },
      "execution_count": null,
      "outputs": []
    },
    {
      "cell_type": "code",
      "source": [],
      "metadata": {
        "id": "KN0Jr3MT501S"
      },
      "execution_count": null,
      "outputs": []
    }
  ]
}